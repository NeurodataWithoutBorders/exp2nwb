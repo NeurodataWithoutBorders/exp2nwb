{
 "cells": [
  {
   "cell_type": "code",
   "execution_count": 21,
   "metadata": {
    "collapsed": false
   },
   "outputs": [],
   "source": [
    "import numpy\n",
    "import nwb\n",
    "from nwb import nwb_file\n",
    "from nwb import nwb_utils\n",
    "import h5py\n",
    "import libdict2nwb"
   ]
  },
  {
   "cell_type": "code",
   "execution_count": 22,
   "metadata": {
    "collapsed": false
   },
   "outputs": [
    {
     "name": "stdout",
     "output_type": "stream",
     "text": [
      "Creating partial NWB file:  Project_folder/top_datasets.h5\n"
     ]
    }
   ],
   "source": [
    "string = \"top_datasets\"\n",
    "dict = {\"start_time\" : \"today\",\n",
    "        \"description\" : \"My toy session\",\n",
    "        \"file_name\": \"Project_folder/top_datasets.h5\",\n",
    "        \"identifier\" : nwb_utils.create_identifier(\"Project_folder\"),\n",
    "        \"mode\" : \"w\"} \n",
    "libdict2nwb.make_partial_nwb(string, dict, \"Project_folder\")"
   ]
  },
  {
   "cell_type": "code",
   "execution_count": 23,
   "metadata": {
    "collapsed": false
   },
   "outputs": [
    {
     "name": "stdout",
     "output_type": "stream",
     "text": [
      "group_attrs= {}\n",
      "Creating partial NWB file:  Project_folder/acquisition.timeseries.extracellular_traces.h5\n"
     ]
    }
   ],
   "source": [
    "string = \"acquisition.timeseries.extracellular_traces\"\n",
    "dict = {string + \".ephys_raw_data\": \"my_raw_data\"}\n",
    "libdict2nwb.make_partial_nwb(string, dict, \"Project_folder\")"
   ]
  },
  {
   "cell_type": "code",
   "execution_count": 39,
   "metadata": {
    "collapsed": false
   },
   "outputs": [
    {
     "name": "stdout",
     "output_type": "stream",
     "text": [
      "Creating partial NWB file:  Project_folder/acquisition.timeseries.my_lick_trace.h5\n"
     ]
    }
   ],
   "source": [
    "string = \"acquisition.timeseries.my_lick_trace\"\n",
    "dict= {string + \".attrs\" : {\"series_type\" : \"<TimeSeries>\"},\n",
    "       string + \".data\" : numpy.array([1, 1, 1]),\n",
    "       string + \".timestamps\" : numpy.array([0.1, 0.2, 0.3]),\n",
    "       string + \".num_samples\" : 3}\n",
    "libdict2nwb.make_partial_nwb(string, dict, \"Project_folder\")"
   ]
  },
  {
   "cell_type": "code",
   "execution_count": 35,
   "metadata": {
    "collapsed": false
   },
   "outputs": [
    {
     "name": "stdout",
     "output_type": "stream",
     "text": [
      "Creating partial NWB file:  Project_folder/analysis.h5\n"
     ]
    }
   ],
   "source": [
    "string = \"analysis\"\n",
    "dict= {string + \".trial_start_times\" : numpy.array([0.1, 0.2]),\n",
    "       string + \".good_trials\" : numpy.array([0, 1]),\n",
    "       string + \".description\" : \"My toy analysis\"}\n",
    "libdict2nwb.make_partial_nwb(string, dict, \"Project_folder\")"
   ]
  },
  {
   "cell_type": "code",
   "execution_count": 26,
   "metadata": {
    "collapsed": false
   },
   "outputs": [
    {
     "name": "stdout",
     "output_type": "stream",
     "text": [
      "Warning: creating custom dataset epochs.description\n",
      "Creating partial NWB file:  Project_folder/epochs.h5\n"
     ]
    }
   ],
   "source": [
    "string = \"epochs\"\n",
    "dict= {string + \".trial_001.start_time\" : 0,\n",
    "       string + \".trial_001.stop_time\" : 1,\n",
    "       string + \".description\" : \"My toy epochs\"}\n",
    "libdict2nwb.make_partial_nwb(string, dict, \"Project_folder\")"
   ]
  },
  {
   "cell_type": "code",
   "execution_count": 27,
   "metadata": {
    "collapsed": false
   },
   "outputs": [
    {
     "name": "stdout",
     "output_type": "stream",
     "text": [
      "Creating partial NWB file:  Project_folder/general.devices.h5\n"
     ]
    }
   ],
   "source": [
    "string = \"general.devices\"\n",
    "dict= {string + \".ephys_acquisition\" : \"My ephys_acquisition device\"}\n",
    "libdict2nwb.make_partial_nwb(string, dict, \"Project_folder\")"
   ]
  },
  {
   "cell_type": "code",
   "execution_count": 28,
   "metadata": {
    "collapsed": false
   },
   "outputs": [
    {
     "name": "stdout",
     "output_type": "stream",
     "text": [
      "Creating partial NWB file:  Project_folder/general.subject.h5\n"
     ]
    }
   ],
   "source": [
    "string = \"general.subject\"\n",
    "dict= {string + \".age\" : \"not recorded\",\n",
    "       string + \".species\" : \"My mouse\",\n",
    "       string + \"..weight\" : \"Unknown\"}\n",
    "libdict2nwb.make_partial_nwb(string, dict, \"Project_folder\")"
   ]
  },
  {
   "cell_type": "code",
   "execution_count": 29,
   "metadata": {
    "collapsed": false
   },
   "outputs": [
    {
     "name": "stdout",
     "output_type": "stream",
     "text": [
      "Creating partial NWB file:  Project_folder/general.top_datasets.h5\n"
     ]
    }
   ],
   "source": [
    "string = \"general.top_datasets\"\n",
    "dict= {string + \".surgery\" : \"My toy surgery\",\n",
    "       string + \".related_publications\" : \"none\",\n",
    "       string + \".lab\": \"Svoboda lab\"}\n",
    "libdict2nwb.make_partial_nwb(string, dict, \"Project_folder\")"
   ]
  },
  {
   "cell_type": "code",
   "execution_count": 30,
   "metadata": {
    "collapsed": false
   },
   "outputs": [
    {
     "name": "stdout",
     "output_type": "stream",
     "text": [
      "\n",
      "******\n",
      "Validation messages follow.\n",
      "** 5 errors.\n",
      "1 Miscellaneous errors:\n",
      "  1. /acquisition/timeseries/extracellular_traces: starting_time XOR timestamps - Either starting_time or timestamps must be present, but not both.\n",
      "No groups missing. -- Good\n",
      "2 datasets missing:\n",
      "  1. '/acquisition/timeseries/extracellular_traces/data'\n",
      "  2. '/acquisition/timeseries/extracellular_traces/num_samples'\n",
      "2 attributes missing:\n",
      "  1. /acquisition/timeseries/extracellular_traces - source\n",
      "  2. /acquisition/timeseries/my_lick_trace - source\n",
      "No Incorrect attribute values. -- Good\n",
      "No groups custom missing attribute neurodata_type=Custom. -- Good\n",
      "No datasets custom missing attribute neurodata_type=Custom. -- Good\n",
      "No groups defined in extension, but missing attribute schema_id. -- Good\n",
      "No datasets defined in extension, but missing attribute schema_id. -- Good\n",
      "** 9 warnings.\n",
      "No Miscellaneous warnings. -- Good\n",
      "No groups custom inside custom missing attribute neurodata_type=Custom. -- Good\n",
      "No datasets custom inside custom missing attribute neurodata_type=Custom. -- Good\n",
      "No recommended groups missing. -- Good\n",
      "4 recommended datasets missing:\n",
      "  1. '/general/experiment_description'\n",
      "  2. '/general/experimenter'\n",
      "  3. '/general/institution'\n",
      "  4. '/general/session_id'\n",
      "4 recommended attributes missing:\n",
      "  1. /acquisition/timeseries/extracellular_traces - description\n",
      "  2. /acquisition/timeseries/extracellular_traces - comments\n",
      "  3. /acquisition/timeseries/my_lick_trace - description\n",
      "  4. /acquisition/timeseries/my_lick_trace - comments\n",
      "No recommended attributes empty. -- Good\n",
      "No required_attributes_empty. -- Good\n",
      "1 added attributes not described by extension:\n",
      "  1. /epochs/trial_001: (group) description\n",
      "** 17 additions.\n",
      "No groups custom and identified by attribute neurodata_type=Custom.\n",
      "17 datasets custom and identified by attribute neurodata_type=Custom:\n",
      "  1. '/analysis/description'\n",
      "  2. '/analysis/good_trials'\n",
      "  3. '/analysis/trial_start_times'\n",
      "  4. '/epochs/description'\n",
      "  5. '/general/lab'\n",
      "  6. '/general/related_publications'\n",
      "  7. '/general/surgery'\n",
      "  8. '/epochs/trial_001/start_time'\n",
      "  9. '/epochs/trial_001/stop_time'\n",
      " 10. '/general/devices/ephys_acquisition'\n",
      " 11. '/general/subject/age'\n",
      " 12. '/general/subject/species'\n",
      " 13. '/general/subject/weight'\n",
      " 14. '/acquisition/timeseries/extracellular_traces/ephys_raw_data'\n",
      " 15. '/acquisition/timeseries/my_lick_trace/data'\n",
      " 16. '/acquisition/timeseries/my_lick_trace/num_samples'\n",
      " 17. '/acquisition/timeseries/my_lick_trace/timestamps'\n",
      "No groups defined by extension and identified by attribute schema_id.\n",
      "No datasets defined by extension and identified by attribute schema_id.\n",
      "No added attributes described by extension.\n",
      "** Summary\n",
      "5 errors, 9 warnings, 17 additions\n",
      "failed validation check (at least one error)\n"
     ]
    }
   ],
   "source": [
    "# Assembly of files from folder My_toy_project to produce: My_toy_project.nwb\n",
    "%run exp2nwb.py Project_folder -D -o Example.nwb"
   ]
  },
  {
   "cell_type": "code",
   "execution_count": null,
   "metadata": {
    "collapsed": true
   },
   "outputs": [],
   "source": []
  }
 ],
 "metadata": {
  "kernelspec": {
   "display_name": "Python 2",
   "language": "python",
   "name": "python2"
  },
  "language_info": {
   "codemirror_mode": {
    "name": "ipython",
    "version": 2
   },
   "file_extension": ".py",
   "mimetype": "text/x-python",
   "name": "python",
   "nbconvert_exporter": "python",
   "pygments_lexer": "ipython2",
   "version": "2.7.13"
  }
 },
 "nbformat": 4,
 "nbformat_minor": 2
}
